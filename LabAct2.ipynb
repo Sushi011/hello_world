{
  "nbformat": 4,
  "nbformat_minor": 0,
  "metadata": {
    "colab": {
      "provenance": [],
      "authorship_tag": "ABX9TyNWmG4+qCpoJQpCHdtda+rf",
      "include_colab_link": true
    },
    "kernelspec": {
      "name": "python3",
      "display_name": "Python 3"
    },
    "language_info": {
      "name": "python"
    }
  },
  "cells": [
    {
      "cell_type": "markdown",
      "metadata": {
        "id": "view-in-github",
        "colab_type": "text"
      },
      "source": [
        "<a href=\"https://colab.research.google.com/github/Sushi011/hello_world/blob/basicPhyton/LabAct2.ipynb\" target=\"_parent\"><img src=\"https://colab.research.google.com/assets/colab-badge.svg\" alt=\"Open In Colab\"/></a>"
      ]
    },
    {
      "cell_type": "code",
      "execution_count": null,
      "metadata": {
        "colab": {
          "base_uri": "https://localhost:8080/"
        },
        "id": "lAc9ByyPfvS7",
        "outputId": "f700cee8-2864-4016-b1b8-3e615d6432f1"
      },
      "outputs": [
        {
          "output_type": "stream",
          "name": "stdout",
          "text": [
            "Loid\n",
            "Yor\n",
            "Anya\n"
          ]
        }
      ],
      "source": [
        "#1.1\n",
        "members = [\"Loid\", \"Yor\", \"Anya\"]\n",
        "\n",
        "for i in members:\n",
        "    print(i)"
      ]
    },
    {
      "cell_type": "code",
      "source": [
        "#1.2\n",
        "print(', '.join(members))"
      ],
      "metadata": {
        "colab": {
          "base_uri": "https://localhost:8080/"
        },
        "id": "JJwrdjEIgLUT",
        "outputId": "24a7023d-a227-4e56-8b69-51e65f4b205f"
      },
      "execution_count": null,
      "outputs": [
        {
          "output_type": "stream",
          "name": "stdout",
          "text": [
            "Loid, Yor, Anya\n"
          ]
        }
      ]
    },
    {
      "cell_type": "code",
      "source": [
        "#1.3\n",
        "members.sort()\n",
        "members.reverse()\n",
        "print(', '.join(members))"
      ],
      "metadata": {
        "colab": {
          "base_uri": "https://localhost:8080/"
        },
        "id": "qcztKwmEgVsl",
        "outputId": "08c8459a-7bf3-4265-9a02-2c1cf7a516f9"
      },
      "execution_count": null,
      "outputs": [
        {
          "output_type": "stream",
          "name": "stdout",
          "text": [
            "Yor, Loid, Anya\n"
          ]
        }
      ]
    },
    {
      "cell_type": "code",
      "source": [
        "#1.4\n",
        "oddNum = 7\n",
        "numList = []\n",
        "\n",
        "for i in range(oddNum, 100, oddNum):\n",
        "    numList.append(i)\n",
        "\n",
        "print(numList)"
      ],
      "metadata": {
        "colab": {
          "base_uri": "https://localhost:8080/"
        },
        "id": "AhGRCwKugb-9",
        "outputId": "e2ac6588-1f31-4998-a4a7-414ff6931b38"
      },
      "execution_count": null,
      "outputs": [
        {
          "output_type": "stream",
          "name": "stdout",
          "text": [
            "[7, 14, 21, 28, 35, 42, 49, 56, 63, 70, 77, 84, 91, 98]\n"
          ]
        }
      ]
    },
    {
      "cell_type": "code",
      "source": [
        "#1.5\n",
        "print(list(filter(lambda x: x >= (oddNum * 5), numList)))"
      ],
      "metadata": {
        "colab": {
          "base_uri": "https://localhost:8080/"
        },
        "id": "hTuSXJUOgcL8",
        "outputId": "c13e9c3b-1bb1-4c4c-d83e-d14d8911c9c3"
      },
      "execution_count": null,
      "outputs": [
        {
          "output_type": "stream",
          "name": "stdout",
          "text": [
            "[35, 42, 49, 56, 63, 70, 77, 84, 91, 98]\n"
          ]
        }
      ]
    },
    {
      "cell_type": "code",
      "source": [
        "#1.6\n",
        "def oddEvenFilter(numList, r):\n",
        "    return list(filter(lambda x: x % 2 == r, numList))\n",
        "\n",
        "oddList = []\n",
        "evenList = []\n",
        "\n",
        "oddList.extend(oddEvenFilter(numList, 1))\n",
        "evenList.extend(oddEvenFilter(numList, 0))\n",
        "\n",
        "\n",
        "print(\"Even elements are  \", evenList)\n",
        "print(\"Odd elements are  \", oddList)"
      ],
      "metadata": {
        "colab": {
          "base_uri": "https://localhost:8080/"
        },
        "id": "R7kymTGKgv3J",
        "outputId": "00ca3df0-8df4-4d9f-860c-9c271fcbdd44"
      },
      "execution_count": null,
      "outputs": [
        {
          "output_type": "stream",
          "name": "stdout",
          "text": [
            "Even elements are   [14, 28, 42, 56, 70, 84, 98]\n",
            "Odd elements are   [7, 21, 35, 49, 63, 77, 91]\n"
          ]
        }
      ]
    },
    {
      "cell_type": "code",
      "source": [
        "#1.7\n",
        "allList = []\n",
        "\n",
        "allList.append(evenList)\n",
        "allList.append(oddList)\n",
        "\n",
        "print(allList)\n"
      ],
      "metadata": {
        "colab": {
          "base_uri": "https://localhost:8080/"
        },
        "id": "gr2g8G6DgwVq",
        "outputId": "3351766f-9750-4be2-b394-31db98331c4d"
      },
      "execution_count": null,
      "outputs": [
        {
          "output_type": "stream",
          "name": "stdout",
          "text": [
            "[[14, 28, 42, 56, 70, 84, 98], [7, 21, 35, 49, 63, 77, 91]]\n"
          ]
        }
      ]
    },
    {
      "cell_type": "code",
      "source": [
        "#1.7\n",
        "print(allList[0][-1])\n",
        "print(allList[1][-1])"
      ],
      "metadata": {
        "colab": {
          "base_uri": "https://localhost:8080/"
        },
        "id": "hEAwkEHwgwda",
        "outputId": "1ab92b61-a7b9-408f-e825-a7384eb993ed"
      },
      "execution_count": null,
      "outputs": [
        {
          "output_type": "stream",
          "name": "stdout",
          "text": [
            "98\n",
            "91\n"
          ]
        }
      ]
    },
    {
      "cell_type": "code",
      "source": [
        "#2 2.1\n",
        "\n",
        "evenTuple = tuple(numList[::2])\n",
        "print(evenTuple)"
      ],
      "metadata": {
        "colab": {
          "base_uri": "https://localhost:8080/"
        },
        "id": "gtWNbSZbgwlQ",
        "outputId": "6dbc4add-28f4-4e38-d798-ea7a43e5558d"
      },
      "execution_count": null,
      "outputs": [
        {
          "output_type": "stream",
          "name": "stdout",
          "text": [
            "(7, 21, 35, 49, 63, 77, 91)\n"
          ]
        }
      ]
    },
    {
      "cell_type": "code",
      "source": [
        "#2.2\n",
        "oddTuple = tuple(numList[1::2])\n",
        "print(oddTuple)"
      ],
      "metadata": {
        "colab": {
          "base_uri": "https://localhost:8080/"
        },
        "id": "imbEteHSgwsR",
        "outputId": "16216c79-b21f-4da8-eb13-f84285ed4877"
      },
      "execution_count": null,
      "outputs": [
        {
          "output_type": "stream",
          "name": "stdout",
          "text": [
            "(14, 28, 42, 56, 70, 84, 98)\n"
          ]
        }
      ]
    },
    {
      "cell_type": "code",
      "source": [
        "#2.3\n",
        "print(\"First element of evenTuple: \", evenTuple[0])\n",
        "print(\"Last element of evenTuple: \", evenTuple[-1])\n",
        "print(\"First element of oddTuple: \", oddTuple[0])\n",
        "print(\"Last element of oddTuple: \", oddTuple[-1])"
      ],
      "metadata": {
        "colab": {
          "base_uri": "https://localhost:8080/"
        },
        "id": "HLPvX0aKgwyj",
        "outputId": "4a0b909d-d4a7-460e-b996-bf1371e324f2"
      },
      "execution_count": null,
      "outputs": [
        {
          "output_type": "stream",
          "name": "stdout",
          "text": [
            "First element of evenTuple:  7\n",
            "Last element of evenTuple:  91\n",
            "First element of oddTuple:  14\n",
            "Last element of oddTuple:  98\n"
          ]
        }
      ]
    },
    {
      "cell_type": "code",
      "source": [
        "#2.4\n",
        "allTuple = (evenList, oddList)\n",
        "print(allTuple)"
      ],
      "metadata": {
        "colab": {
          "base_uri": "https://localhost:8080/"
        },
        "id": "zLpzrV79gw3O",
        "outputId": "e141e54e-026b-442a-d6f1-91f52d8893f1"
      },
      "execution_count": null,
      "outputs": [
        {
          "output_type": "stream",
          "name": "stdout",
          "text": [
            "([14, 28, 42, 56, 70, 84, 98], [7, 21, 35, 49, 63, 77, 91])\n"
          ]
        }
      ]
    },
    {
      "cell_type": "code",
      "source": [
        "#2.5\n",
        "allTuple[0].append(22)\n",
        "allTuple[1].append(231)\n",
        "print(allTuple)"
      ],
      "metadata": {
        "colab": {
          "base_uri": "https://localhost:8080/"
        },
        "id": "udZxwtkogw6U",
        "outputId": "ab580e75-dad6-4118-8746-3e74916c4bd6"
      },
      "execution_count": null,
      "outputs": [
        {
          "output_type": "stream",
          "name": "stdout",
          "text": [
            "([14, 28, 42, 56, 70, 84, 98, 22], [7, 21, 35, 49, 63, 77, 91, 231])\n"
          ]
        }
      ]
    },
    {
      "cell_type": "code",
      "source": [
        "#3.1\n",
        "membersDict = {\n",
        "    'leader': \"Claymar Pereyra\",\n",
        "    'member1': \"Yuma Wakayama\",\n",
        "    'member2': \"Jeanrey Paculan\",\n",
        "    'member3': \"Jeza Besa\",\n",
        "    'member4': \"Sushmita Esteban\"\n",
        "}\n",
        "print(\"membersDict\", membersDict)"
      ],
      "metadata": {
        "colab": {
          "base_uri": "https://localhost:8080/"
        },
        "id": "rXRTQ0MfhtRF",
        "outputId": "fc2c2534-c47f-4e02-b3c7-ff9b71f122d4"
      },
      "execution_count": null,
      "outputs": [
        {
          "output_type": "stream",
          "name": "stdout",
          "text": [
            "membersDict {'leader': 'Claymar Pereyra', 'member1': 'Yuma Wakayama', 'member2': 'Jeanrey Paculan', 'member3': 'Jeza Besa', 'member4': 'Sushmita Esteban'}\n"
          ]
        }
      ]
    },
    {
      "cell_type": "code",
      "source": [
        "#3.2\n",
        "print(\"Leader: \", membersDict['leader'])"
      ],
      "metadata": {
        "colab": {
          "base_uri": "https://localhost:8080/"
        },
        "id": "sotxKgGzhtYH",
        "outputId": "273ed3e5-8f1a-44be-da0d-0fcc3453b665"
      },
      "execution_count": null,
      "outputs": [
        {
          "output_type": "stream",
          "name": "stdout",
          "text": [
            "Leader:  Claymar Pereyra\n"
          ]
        }
      ]
    },
    {
      "cell_type": "code",
      "source": [
        "#3.3\n",
        "# O(1)"
      ],
      "metadata": {
        "id": "5tmvpYCKhtbE"
      },
      "execution_count": null,
      "outputs": []
    },
    {
      "cell_type": "code",
      "source": [
        "#3.4\n",
        "membkDict = membersDict.copy()\n",
        "print(\"membkDict\", membkDict)"
      ],
      "metadata": {
        "colab": {
          "base_uri": "https://localhost:8080/"
        },
        "id": "ABSSE6ZWhteN",
        "outputId": "75ecb216-7f68-4b57-f7ae-9b1dca93cc46"
      },
      "execution_count": null,
      "outputs": [
        {
          "output_type": "stream",
          "name": "stdout",
          "text": [
            "membkDict {'leader': 'Claymar Pereyra', 'member1': 'Yuma Wakayama', 'member2': 'Jeanrey Paculan', 'member3': 'Jeza Besa', 'member4': 'Sushmita Esteban'}\n"
          ]
        }
      ]
    },
    {
      "cell_type": "code",
      "source": [
        "#3.4\n",
        "#O(n)\n",
        "\n",
        "#4.1\n",
        "set1 = {1,2,3,4,5,6,7,8,9,10}\n",
        "set2 = {2,4,6,8,10,12,14,16,18,20}\n",
        "print(\"set 1 \",set1)\n",
        "print(\"set 2 \",set2)"
      ],
      "metadata": {
        "colab": {
          "base_uri": "https://localhost:8080/"
        },
        "id": "Rsr9DNJ3ivdu",
        "outputId": "adfd3eb5-8e3b-4ec9-f30c-8f4d01992c47"
      },
      "execution_count": null,
      "outputs": [
        {
          "output_type": "stream",
          "name": "stdout",
          "text": [
            "set 1  {1, 2, 3, 4, 5, 6, 7, 8, 9, 10}\n",
            "set 2  {2, 4, 6, 8, 10, 12, 14, 16, 18, 20}\n"
          ]
        }
      ]
    },
    {
      "cell_type": "code",
      "source": [
        "#4.2\n",
        "print(\"Union of set1 and set2\", set1.union(set2))"
      ],
      "metadata": {
        "colab": {
          "base_uri": "https://localhost:8080/"
        },
        "id": "hiibzbehivhC",
        "outputId": "f6a77379-2ea7-4055-e960-4690d1660471"
      },
      "execution_count": null,
      "outputs": [
        {
          "output_type": "stream",
          "name": "stdout",
          "text": [
            "Union of set1 and set2 {1, 2, 3, 4, 5, 6, 7, 8, 9, 10, 12, 14, 16, 18, 20}\n"
          ]
        }
      ]
    },
    {
      "cell_type": "code",
      "source": [
        "#4.3\n",
        "print(\"Intersection of set1 and set2\", set1.intersection(set2))"
      ],
      "metadata": {
        "colab": {
          "base_uri": "https://localhost:8080/"
        },
        "id": "8CA-dN4Rivj-",
        "outputId": "d9a05566-2535-4f10-b04c-c1662363f5c1"
      },
      "execution_count": null,
      "outputs": [
        {
          "output_type": "stream",
          "name": "stdout",
          "text": [
            "Intersection of set1 and set2 {2, 4, 6, 8, 10}\n"
          ]
        }
      ]
    },
    {
      "cell_type": "code",
      "source": [
        "#4.4\n",
        "print(\"Difference of set1 and set2\", set1.difference(set2))"
      ],
      "metadata": {
        "colab": {
          "base_uri": "https://localhost:8080/"
        },
        "id": "h3-0Kw4ngw89",
        "outputId": "db4be8f9-6e91-4b50-e1c3-487dfd3155bc"
      },
      "execution_count": null,
      "outputs": [
        {
          "output_type": "stream",
          "name": "stdout",
          "text": [
            "Difference of set1 and set2 {1, 3, 5, 7, 9}\n"
          ]
        }
      ]
    },
    {
      "cell_type": "code",
      "source": [
        "#5.1\n",
        "import pandas as pd\n",
        "\n",
        "data = {\n",
        "    'id':[1,2,3,4,5],\n",
        "    'name':[\"Claymar Pereyra\",\"Yuma Wakayama\",\"Jeanrey Paculan\",\"Jezavel Besa\",\"Sushmita Esteban\"],\n",
        "    'role': [\"leader\",\"member1\",\"member2\",\"member3\",\"member4\"],\n",
        "    'age': [22, 22, 21, 20, 20],\n",
        "    'gender': ['M','M','F','F','F']\n",
        "}\n",
        "membersDf = pd.DataFrame(data)\n",
        "print(membersDf)"
      ],
      "metadata": {
        "colab": {
          "base_uri": "https://localhost:8080/"
        },
        "id": "JGRNpq0sgxLa",
        "outputId": "aa532769-0a00-49f0-a26e-c91c3538c885"
      },
      "execution_count": null,
      "outputs": [
        {
          "output_type": "stream",
          "name": "stdout",
          "text": [
            "   id              name     role  age gender\n",
            "0   1   Claymar Pereyra   leader   22      M\n",
            "1   2     Yuma Wakayama  member1   22      M\n",
            "2   3   Jeanrey Paculan  member2   21      F\n",
            "3   4      Jezavel Besa  member3   20      F\n",
            "4   5  Sushmita Esteban  member4   20      F\n"
          ]
        }
      ]
    },
    {
      "cell_type": "code",
      "source": [
        "#5.2\n",
        "print(membersDf[['id', 'name']])"
      ],
      "metadata": {
        "colab": {
          "base_uri": "https://localhost:8080/"
        },
        "id": "H0kPVr3Pj80r",
        "outputId": "cde9ccec-dcac-4faf-9c00-bf5d062edeb9"
      },
      "execution_count": null,
      "outputs": [
        {
          "output_type": "stream",
          "name": "stdout",
          "text": [
            "   id              name\n",
            "0   1   Claymar Pereyra\n",
            "1   2     Yuma Wakayama\n",
            "2   3   Jeanrey Paculan\n",
            "3   4      Jezavel Besa\n",
            "4   5  Sushmita Esteban\n"
          ]
        }
      ]
    },
    {
      "cell_type": "code",
      "source": [
        "#5.3\n",
        "print(membersDf[membersDf['age'] == 20])"
      ],
      "metadata": {
        "colab": {
          "base_uri": "https://localhost:8080/"
        },
        "id": "oppWWfAbj82m",
        "outputId": "164808c1-4d56-472b-ea70-c459c33c0183"
      },
      "execution_count": null,
      "outputs": [
        {
          "output_type": "stream",
          "name": "stdout",
          "text": [
            "   id              name     role  age gender\n",
            "3   4      Jezavel Besa  member3   20      F\n",
            "4   5  Sushmita Esteban  member4   20      F\n"
          ]
        }
      ]
    },
    {
      "cell_type": "code",
      "source": [
        "#5.4\n",
        "print(membersDf[membersDf['gender'] == 'F'])"
      ],
      "metadata": {
        "colab": {
          "base_uri": "https://localhost:8080/"
        },
        "id": "Kkdkr_pnj83t",
        "outputId": "a2599e5f-c5e5-4df5-e0b1-0ac52bb35880"
      },
      "execution_count": null,
      "outputs": [
        {
          "output_type": "stream",
          "name": "stdout",
          "text": [
            "   id              name     role  age gender\n",
            "2   3   Jeanrey Paculan  member2   21      F\n",
            "3   4      Jezavel Besa  member3   20      F\n",
            "4   5  Sushmita Esteban  member4   20      F\n"
          ]
        }
      ]
    },
    {
      "cell_type": "code",
      "source": [
        "#5.5\n",
        "print(membersDf[(membersDf['gender'] == 'M') & (membersDf['age'] == 20)])"
      ],
      "metadata": {
        "colab": {
          "base_uri": "https://localhost:8080/"
        },
        "id": "0S0GTCHlj85w",
        "outputId": "9b961bef-2b9e-41fb-a6c0-8dc0b07f3b55"
      },
      "execution_count": null,
      "outputs": [
        {
          "output_type": "stream",
          "name": "stdout",
          "text": [
            "Empty DataFrame\n",
            "Columns: [id, name, role, age, gender]\n",
            "Index: []\n"
          ]
        }
      ]
    },
    {
      "cell_type": "code",
      "source": [
        "#6.1\n",
        "class Stack:\n",
        "    def __init__(self):\n",
        "        self.items = []\n",
        "\n",
        "    def is_empty(self):\n",
        "        return self.items == []\n",
        "\n",
        "    def push(self, item):\n",
        "        self.items.append(item)\n",
        "\n",
        "    def pop(self):\n",
        "        if not self.is_empty():\n",
        "            return self.items.pop()\n",
        "        else:\n",
        "            return None\n",
        "\n",
        "    def peek(self):\n",
        "        if not self.is_empty():\n",
        "            return self.items[-1]\n",
        "        else:\n",
        "            return None\n",
        "\n",
        "    def size(self):\n",
        "        return len(self.items)"
      ],
      "metadata": {
        "id": "JbJE_Tmvj884"
      },
      "execution_count": null,
      "outputs": []
    },
    {
      "cell_type": "code",
      "source": [
        "#6.2\n",
        "member_names = [\"Claymar Pereyra\",\"Jeanrey Paculan\",\"Jezavel Besa\",\"Sushmita Esteban\",\"Yuma Wakayama\"]\n",
        "name_stack = Stack()\n",
        "\n",
        "sorted_names = sorted(member_names)\n",
        "for name in sorted_names[::-1]:\n",
        "    name_stack.push(name)"
      ],
      "metadata": {
        "id": "29aVRjGaj8_q"
      },
      "execution_count": null,
      "outputs": []
    },
    {
      "cell_type": "code",
      "source": [
        "#6.3\n",
        "print(\"First inserted element in the stack:\", name_stack.peek())\n"
      ],
      "metadata": {
        "colab": {
          "base_uri": "https://localhost:8080/"
        },
        "id": "k7bCZx99gxOJ",
        "outputId": "0d91a4ab-07f0-442d-b72d-98af4b6134d1"
      },
      "execution_count": null,
      "outputs": [
        {
          "output_type": "stream",
          "name": "stdout",
          "text": [
            "First inserted element in the stack: Claymar Pereyra\n"
          ]
        }
      ]
    },
    {
      "cell_type": "code",
      "source": [
        "#6.4\n",
        "print(\"Size of the stack:\", name_stack.size())"
      ],
      "metadata": {
        "colab": {
          "base_uri": "https://localhost:8080/"
        },
        "id": "JoOuk9TXof6m",
        "outputId": "73cb1c83-3401-4842-b2f5-1f350b6ed953"
      },
      "execution_count": null,
      "outputs": [
        {
          "output_type": "stream",
          "name": "stdout",
          "text": [
            "Size of the stack: 5\n"
          ]
        }
      ]
    },
    {
      "cell_type": "code",
      "source": [
        "#6.5 & 6.7\n",
        "\n",
        "if name_stack.is_empty():\n",
        "    print(\"The stack is empty\")\n",
        "else:\n",
        "    print(\"The stack is not empty\")"
      ],
      "metadata": {
        "colab": {
          "base_uri": "https://localhost:8080/"
        },
        "id": "TRFhW4OvogFs",
        "outputId": "d67872f5-5895-4229-caec-801596082ee6"
      },
      "execution_count": null,
      "outputs": [
        {
          "output_type": "stream",
          "name": "stdout",
          "text": [
            "The stack is not empty\n"
          ]
        }
      ]
    },
    {
      "cell_type": "code",
      "source": [
        "#6.6\n",
        "print(\"Elements in the stack:\")\n",
        "while not name_stack.is_empty():\n",
        "    print(name_stack.peek())\n",
        "    name_stack.pop()"
      ],
      "metadata": {
        "colab": {
          "base_uri": "https://localhost:8080/"
        },
        "id": "ZnHps6aJogI4",
        "outputId": "614d9c34-fa7e-4769-e2d7-ceed9db85c3c"
      },
      "execution_count": null,
      "outputs": [
        {
          "output_type": "stream",
          "name": "stdout",
          "text": [
            "Elements in the stack:\n",
            "Claymar Pereyra\n",
            "Jeanrey Paculan\n",
            "Jezavel Besa\n",
            "Sushmita Esteban\n",
            "Yuma Wakayama\n"
          ]
        }
      ]
    },
    {
      "cell_type": "code",
      "source": [
        "#7.1\n",
        "class Queue:\n",
        "    def __init__(self):\n",
        "        self.items = []\n",
        "\n",
        "    def is_empty(self):\n",
        "        return self.items == []\n",
        "\n",
        "    def enqueue(self, item):\n",
        "        self.items.append(item)\n",
        "\n",
        "    def dequeue(self):\n",
        "        if not self.is_empty():\n",
        "            return self.items.pop(0)\n",
        "        else:\n",
        "            raise IndexError(\"Queue is empty\")\n",
        "\n",
        "    def size(self):\n",
        "        return len(self.items)"
      ],
      "metadata": {
        "id": "Ejf1750vogL6"
      },
      "execution_count": null,
      "outputs": []
    },
    {
      "cell_type": "code",
      "source": [
        "#7.2\n",
        "member_names = [\"Claymar Pereyra\",\"Jeanrey Paculan\",\"Jezavel Besa\",\"Sushmita Esteban\",\"Yuma Wakayama\"]\n",
        "name_queue = Queue()\n",
        "sorted_names = sorted(member_names)\n",
        "for name in sorted_names:\n",
        "    name_queue.enqueue(name)"
      ],
      "metadata": {
        "id": "kJqeSViBogOx"
      },
      "execution_count": null,
      "outputs": []
    },
    {
      "cell_type": "code",
      "source": [
        "#7.3\n",
        "print(\"Size of the queue:\", name_queue.size())"
      ],
      "metadata": {
        "colab": {
          "base_uri": "https://localhost:8080/"
        },
        "id": "WhHJZnWMogRY",
        "outputId": "2d854f6e-ed66-4b25-b24e-e12bf3bf71c2"
      },
      "execution_count": null,
      "outputs": [
        {
          "output_type": "stream",
          "name": "stdout",
          "text": [
            "Size of the queue: 5\n"
          ]
        }
      ]
    },
    {
      "cell_type": "code",
      "source": [
        "#7.5 & 7.7\n",
        "if name_queue.is_empty():\n",
        "    print(\"The queue is empty\")\n",
        "else:\n",
        "    print(\"The queue is not empty\")"
      ],
      "metadata": {
        "colab": {
          "base_uri": "https://localhost:8080/"
        },
        "id": "XUikierOpCDg",
        "outputId": "af8105f6-9e24-4a5f-a7da-58f9d37b5286"
      },
      "execution_count": null,
      "outputs": [
        {
          "output_type": "stream",
          "name": "stdout",
          "text": [
            "The queue is not empty\n"
          ]
        }
      ]
    },
    {
      "cell_type": "code",
      "source": [
        "#7.6\n",
        "print(\"Names in alphabetical order:\")\n",
        "while not name_queue.is_empty():\n",
        "    print(name_queue.dequeue())"
      ],
      "metadata": {
        "colab": {
          "base_uri": "https://localhost:8080/"
        },
        "id": "miyeOWCLpCEy",
        "outputId": "f3c2972f-9d4f-4400-8c4d-c077b8bd14b5"
      },
      "execution_count": null,
      "outputs": [
        {
          "output_type": "stream",
          "name": "stdout",
          "text": [
            "Names in alphabetical order:\n",
            "Claymar Pereyra\n",
            "Jeanrey Paculan\n",
            "Jezavel Besa\n",
            "Sushmita Esteban\n",
            "Yuma Wakayama\n"
          ]
        }
      ]
    }
  ]
}