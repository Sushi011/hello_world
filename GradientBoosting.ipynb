{
  "nbformat": 4,
  "nbformat_minor": 0,
  "metadata": {
    "colab": {
      "provenance": [],
      "authorship_tag": "ABX9TyMt5NqTa1ZQvS4GVKBNeGGv",
      "include_colab_link": true
    },
    "kernelspec": {
      "name": "python3",
      "display_name": "Python 3"
    },
    "language_info": {
      "name": "python"
    }
  },
  "cells": [
    {
      "cell_type": "markdown",
      "metadata": {
        "id": "view-in-github",
        "colab_type": "text"
      },
      "source": [
        "<a href=\"https://colab.research.google.com/github/Sushi011/hello_world/blob/gradientBoosting/GradientBoosting.ipynb\" target=\"_parent\"><img src=\"https://colab.research.google.com/assets/colab-badge.svg\" alt=\"Open In Colab\"/></a>"
      ]
    },
    {
      "cell_type": "markdown",
      "source": [
        "**Besa_Esteban_Paculan_III-ACSAD**\n"
      ],
      "metadata": {
        "id": "5IzJZ8m4mWvU"
      }
    },
    {
      "cell_type": "code",
      "source": [
        "import pandas as pd\n",
        "from sklearn.model_selection import train_test_split\n",
        "from sklearn.ensemble import GradientBoostingRegressor\n",
        "from sklearn.metrics import mean_squared_error, r2_score\n",
        "from sklearn.preprocessing import LabelEncoder\n",
        "from sklearn.preprocessing import LabelEncoder"
      ],
      "metadata": {
        "id": "FotcMzo9dqVS"
      },
      "execution_count": 8,
      "outputs": []
    },
    {
      "cell_type": "code",
      "source": [
        "# Read the data from the CSV file\n",
        "file_path = 'Auto.csv'  # Replace 'your_file_path.csv' with the actual path to your CSV file\n",
        "data = pd.read_csv(file_path)"
      ],
      "metadata": {
        "id": "9tPGSPfNeHev"
      },
      "execution_count": 9,
      "outputs": []
    },
    {
      "cell_type": "code",
      "source": [
        "# Select categorical columns that need to be converted to numerical values\n",
        "categorical_cols = ['CarName', 'fueltype', 'aspiration', 'doornumber', 'carbody', 'drivewheel', 'enginelocation', 'enginetype', 'cylindernumber', 'fuelsystem']  # Replace with your categorical column names\n",
        "\n",
        "# Use LabelEncoder to convert categorical columns to numerical values\n",
        "label_encoders = {}\n",
        "for col in categorical_cols:\n",
        "    label_encoders[col] = LabelEncoder()\n",
        "    data[col] = label_encoders[col].fit_transform(data[col])\n"
      ],
      "metadata": {
        "id": "C9ny73yefmvb"
      },
      "execution_count": 10,
      "outputs": []
    },
    {
      "cell_type": "code",
      "execution_count": 14,
      "metadata": {
        "colab": {
          "base_uri": "https://localhost:8080/"
        },
        "id": "7AD896cMdmCE",
        "outputId": "d7243d5f-aa0d-4f26-d32c-8d2952f53668"
      },
      "outputs": [
        {
          "output_type": "stream",
          "name": "stdout",
          "text": [
            "Gradient Boosting - Coefficient of determination (R²): 99.04%\n",
            "Gradient Boosting - Mean Squared Error (MSE): 0.68\n"
          ]
        }
      ],
      "source": [
        "\n",
        "# Assuming 'data' is your DataFrame\n",
        "features = data[['citympg', 'horsepower', 'enginesize', 'highwaympg', 'enginesize', 'curbweight', 'carwidth', 'carlength']]\n",
        "target = data['highwaympg']\n",
        "\n",
        "# Assuming 'data' is your DataFrame\n",
        "#features = data[['wheelbase', 'carwidth', 'curbweight', 'highwaympg', 'enginesize', 'boreratio', 'citympg', 'price']]\n",
        "#target = data['carlength']\n",
        "\n",
        "# Splitting the data into training and testing sets\n",
        "X_train, X_test, y_train, y_test = train_test_split(features, target, test_size=0.2, random_state=42)\n",
        "\n",
        "# Creating the GradientBoostingRegressor\n",
        "gb_model = GradientBoostingRegressor(n_estimators=100, learning_rate=0.1, random_state=42)  # You can adjust n_estimators and learning_rate as needed\n",
        "\n",
        "# Fitting the model with training data\n",
        "gb_model.fit(X_train, y_train)\n",
        "\n",
        "# Making predictions on the test set\n",
        "y_pred = gb_model.predict(X_test)\n",
        "\n",
        "# Evaluation\n",
        "score_gb = gb_model.score(X_test, y_test)\n",
        "mse_gb = mean_squared_error(y_test, y_pred)\n",
        "\n",
        "print(\"Gradient Boosting - Coefficient of determination (R²): {:.2f}%\".format(score_gb * 100))\n",
        "print(\"Gradient Boosting - Mean Squared Error (MSE): {:.2f}\".format(mse_gb))"
      ]
    }
  ]
}