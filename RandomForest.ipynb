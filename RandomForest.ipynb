{
  "nbformat": 4,
  "nbformat_minor": 0,
  "metadata": {
    "colab": {
      "provenance": [],
      "include_colab_link": true
    },
    "kernelspec": {
      "name": "python3",
      "display_name": "Python 3"
    },
    "language_info": {
      "name": "python"
    }
  },
  "cells": [
    {
      "cell_type": "markdown",
      "metadata": {
        "id": "view-in-github",
        "colab_type": "text"
      },
      "source": [
        "<a href=\"https://colab.research.google.com/github/Sushi011/hello_world/blob/randomForest/RandomForest.ipynb\" target=\"_parent\"><img src=\"https://colab.research.google.com/assets/colab-badge.svg\" alt=\"Open In Colab\"/></a>"
      ]
    },
    {
      "cell_type": "markdown",
      "source": [
        "\n",
        "**Besa_Esteban_Paculan_III-ACSAD**"
      ],
      "metadata": {
        "id": "GPSk8IzYl9eP"
      }
    },
    {
      "cell_type": "code",
      "source": [
        "import pandas as pd\n",
        "from sklearn.ensemble import RandomForestRegressor\n",
        "from sklearn.model_selection import train_test_split\n",
        "from sklearn.metrics import mean_squared_error\n",
        "import matplotlib.pyplot as plt\n",
        "from sklearn.preprocessing import LabelEncoder"
      ],
      "metadata": {
        "id": "-GmiAdGVrcwE"
      },
      "execution_count": 20,
      "outputs": []
    },
    {
      "cell_type": "code",
      "source": [
        "from dataclasses import dataclass\n",
        "#read the candidate csv file\n",
        "data = pd.read_csv(\"Auto.csv\")\n",
        "print(data.head())\n"
      ],
      "metadata": {
        "id": "C8eb6dBRsuIu",
        "colab": {
          "base_uri": "https://localhost:8080/"
        },
        "outputId": "663d35bd-9e2c-49ed-f081-e2dad9086f90"
      },
      "execution_count": 28,
      "outputs": [
        {
          "output_type": "stream",
          "name": "stdout",
          "text": [
            "   car_ID  symboling                   CarName fueltype aspiration doornumber  \\\n",
            "0       1          3        alfa-romero giulia      gas        std        two   \n",
            "1       2          3       alfa-romero stelvio      gas        std        two   \n",
            "2       3          1  alfa-romero Quadrifoglio      gas        std        two   \n",
            "3       4          2               audi 100 ls      gas        std       four   \n",
            "4       5          2                audi 100ls      gas        std       four   \n",
            "\n",
            "       carbody drivewheel enginelocation  wheelbase  ...  enginesize  \\\n",
            "0  convertible        rwd          front       88.6  ...         130   \n",
            "1  convertible        rwd          front       88.6  ...         130   \n",
            "2    hatchback        rwd          front       94.5  ...         152   \n",
            "3        sedan        fwd          front       99.8  ...         109   \n",
            "4        sedan        4wd          front       99.4  ...         136   \n",
            "\n",
            "   fuelsystem  boreratio  stroke compressionratio horsepower  peakrpm citympg  \\\n",
            "0        mpfi       3.47    2.68              9.0        111     5000      21   \n",
            "1        mpfi       3.47    2.68              9.0        111     5000      21   \n",
            "2        mpfi       2.68    3.47              9.0        154     5000      19   \n",
            "3        mpfi       3.19    3.40             10.0        102     5500      24   \n",
            "4        mpfi       3.19    3.40              8.0        115     5500      18   \n",
            "\n",
            "   highwaympg    price  \n",
            "0          27  13495.0  \n",
            "1          27  16500.0  \n",
            "2          26  16500.0  \n",
            "3          30  13950.0  \n",
            "4          22  17450.0  \n",
            "\n",
            "[5 rows x 26 columns]\n"
          ]
        }
      ]
    },
    {
      "cell_type": "code",
      "source": [
        "# Convert all strings to numerical(categorical)\n",
        "categorical_cols = data.select_dtypes(include=['object']).columns.tolist()\n",
        "one_hot_encoded = pd.get_dummies(data[categorical_cols])"
      ],
      "metadata": {
        "id": "5Hb27f5clFrw"
      },
      "execution_count": 30,
      "outputs": []
    },
    {
      "cell_type": "code",
      "source": [
        "auto_df = data.drop(columns=categorical_cols)\n",
        "auto_df = pd.concat([auto_df, one_hot_encoded], axis=1)\n",
        "\n",
        "# Display modified DataFrame with one-hot encoded columns\n",
        "print(auto_df.head())"
      ],
      "metadata": {
        "colab": {
          "base_uri": "https://localhost:8080/"
        },
        "id": "ZodEH46elKXG",
        "outputId": "029c3e3c-f59a-4ed5-c656-6d73c7e542a1"
      },
      "execution_count": 31,
      "outputs": [
        {
          "output_type": "stream",
          "name": "stdout",
          "text": [
            "   car_ID  symboling  wheelbase  carlength  carwidth  carheight  curbweight  \\\n",
            "0       1          3       88.6      168.8      64.1       48.8        2548   \n",
            "1       2          3       88.6      168.8      64.1       48.8        2548   \n",
            "2       3          1       94.5      171.2      65.5       52.4        2823   \n",
            "3       4          2       99.8      176.6      66.2       54.3        2337   \n",
            "4       5          2       99.4      176.6      66.4       54.3        2824   \n",
            "\n",
            "   enginesize  boreratio  stroke  ...  cylindernumber_twelve  \\\n",
            "0         130       3.47    2.68  ...                      0   \n",
            "1         130       3.47    2.68  ...                      0   \n",
            "2         152       2.68    3.47  ...                      0   \n",
            "3         109       3.19    3.40  ...                      0   \n",
            "4         136       3.19    3.40  ...                      0   \n",
            "\n",
            "   cylindernumber_two  fuelsystem_1bbl  fuelsystem_2bbl  fuelsystem_4bbl  \\\n",
            "0                   0                0                0                0   \n",
            "1                   0                0                0                0   \n",
            "2                   0                0                0                0   \n",
            "3                   0                0                0                0   \n",
            "4                   0                0                0                0   \n",
            "\n",
            "   fuelsystem_idi  fuelsystem_mfi  fuelsystem_mpfi  fuelsystem_spdi  \\\n",
            "0               0               0                1                0   \n",
            "1               0               0                1                0   \n",
            "2               0               0                1                0   \n",
            "3               0               0                1                0   \n",
            "4               0               0                1                0   \n",
            "\n",
            "   fuelsystem_spfi  \n",
            "0                0  \n",
            "1                0  \n",
            "2                0  \n",
            "3                0  \n",
            "4                0  \n",
            "\n",
            "[5 rows x 201 columns]\n"
          ]
        }
      ]
    },
    {
      "cell_type": "code",
      "source": [
        "\n",
        "# Assuming 'data' is your DataFrame\n",
        "features = data[['citympg', 'horsepower', 'enginesize', 'highwaympg', 'enginesize', 'curbweight', 'carwidth', 'carlength']]\n",
        "target = data['highwaympg']\n",
        "\n",
        "# Assuming 'data' is your DataFrame\n",
        "#features = data[['wheelbase', 'carwidth', 'curbweight', 'highwaympg', 'enginesize', 'boreratio', 'citympg', 'price']]\n",
        "#target = data['carlengthhig']\n",
        "\n",
        "# Splitting the data into training and testing sets\n",
        "X_train, X_test, y_train, y_test = train_test_split(features, target, test_size=0.2, random_state=42)\n",
        "\n",
        "# Creating the RandomForestRegressor\n",
        "rf_model = RandomForestRegressor(n_estimators=100, random_state=42)  # You can adjust n_estimators as needed\n",
        "\n",
        "# Fitting the model with training data\n",
        "rf_model.fit(X_train, y_train)\n",
        "\n",
        "# Making predictions on the test set\n",
        "y_pred = rf_model.predict(X_test)\n",
        "\n",
        "# Evaluation\n",
        "score_rf = rf_model.score(X_test, y_test)\n",
        "mse_rf = mean_squared_error(y_test, y_pred)\n",
        "\n",
        "print(\"Random Forest - Coefficient of determination (R²): {:.2f}%\".format(score_rf * 100))\n",
        "print(\"Random Forest - Mean Squared Error (MSE): {:.2f}\".format(mse_rf))"
      ],
      "metadata": {
        "colab": {
          "base_uri": "https://localhost:8080/"
        },
        "id": "i83XIdkucfwm",
        "outputId": "25f48de5-963c-424d-95eb-a2da655744c1"
      },
      "execution_count": 33,
      "outputs": [
        {
          "output_type": "stream",
          "name": "stdout",
          "text": [
            "Random Forest - Coefficient of determination (R²): 97.11%\n",
            "Random Forest - Mean Squared Error (MSE): 2.04\n"
          ]
        }
      ]
    },
    {
      "cell_type": "code",
      "source": [
        "# Plotting actual vs. predicted values (optional)\n",
        "plt.scatter(y_test, y_pred)\n",
        "plt.xlabel('True Values')\n",
        "plt.ylabel('Predictions')\n",
        "plt.title('True Values vs. Predictions')\n",
        "plt.show()"
      ],
      "metadata": {
        "colab": {
          "base_uri": "https://localhost:8080/",
          "height": 472
        },
        "id": "6nhPiIhlT0uN",
        "outputId": "15735513-cc18-4b3a-fe6b-6554a300cef2"
      },
      "execution_count": 34,
      "outputs": [
        {
          "output_type": "display_data",
          "data": {
            "text/plain": [
              "<Figure size 640x480 with 1 Axes>"
            ],
            "image/png": "[encoded data removed]"
          },
          "metadata": {}
        }
      ]
    }
  ]
}